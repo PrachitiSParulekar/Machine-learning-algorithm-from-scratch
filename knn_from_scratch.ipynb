{
 "cells": [
  {
   "cell_type": "markdown",
   "id": "0b6ed1d1-00ea-4b93-8f8d-1672a77b9c6c",
   "metadata": {},
   "source": [
    "k-NN (k-Nearest Neighbors) machine learning algorithm used for classification and regression.\n",
    "It predicts the label of a given input based on the most common label (or average response, for regression) among its k closest points in the training set, using a distance metric (like Euclidean distance) to define \"closeness\"."
   ]
  },
  {
   "cell_type": "markdown",
   "id": "60307ced-b044-426c-8716-df36bf5e103c",
   "metadata": {},
   "source": [
    "Key Concepts of k-NN\n",
    "-Lazy Learning: k-NN does not learn an explicit model during the training phase. Instead, it memorizes the training data and computes predictions only when queried (called \"instance-based\" or \"memory-based\" learning).\n",
    "-Distance Metric: k-NN uses distance calculations (e.g., Euclidean, Manhattan) to determine nearest neighbors.\n",
    "-k parameter: The hyperparameter k determines how many neighbors vote in the prediction.\n",
    "   *Small k: model is sensitive to noise.\n",
    "   *Large k: model is smoother, more bias.\n",
    "-Majority Voting (Classification): Assigns the class most frequently occurring among the k neighbors.\n",
    "-Averaging (Regression): Uses the mean value of the k neighbors for prediction."
   ]
  },
  {
   "cell_type": "code",
   "execution_count": 1,
   "id": "7b65a0eb-c065-474e-8a5e-7661f0a2d6e6",
   "metadata": {},
   "outputs": [],
   "source": [
    "import numpy as np \n",
    "from collections import Counter"
   ]
  },
  {
   "cell_type": "code",
   "execution_count": 14,
   "id": "8b533dd2-cd46-43b3-872e-2a9630930f40",
   "metadata": {},
   "outputs": [],
   "source": [
    "class KNN:\n",
    "    def __init__(self, k=3):\n",
    "        self.k = k\n",
    "\n",
    "    def fit(self, X_train, y_train):\n",
    "        self.X_train = X_train\n",
    "        self.y_train = y_train\n",
    "\n",
    "    def predict(self, X_test):\n",
    "        predictions = []\n",
    "        for x in X_test:\n",
    "        # Compute distances from x to all training points\n",
    "            distances = [np.linalg.norm(x - x_train) for x_train in self.X_train]\n",
    "         # Get indices of k nearest neighbors\n",
    "            k_indices = np.argsort(distances)[:self.k]\n",
    "        #find labels of nearest neighbors\n",
    "            k_neighbor_labels = [self.y_train[i] for i in k_indices]\n",
    "        #majority vote\n",
    "            most_common = Counter(k_neighbor_labels).most_common(1)[0][0]\n",
    "            predictions.append(most_common)\n",
    "        return np.array(predictions)\n",
    "        "
   ]
  },
  {
   "cell_type": "code",
   "execution_count": 15,
   "id": "0fd4c046-1730-469d-8aaf-737f8e9c1911",
   "metadata": {},
   "outputs": [
    {
     "name": "stdout",
     "output_type": "stream",
     "text": [
      "[0 1]\n"
     ]
    }
   ],
   "source": [
    "# Example usage\n",
    "X_train = np.array([[1, 2], [2, 3], [3, 1]])\n",
    "y_train = np.array([0, 1, 0])\n",
    "X_test = np.array([[1, 2], [3, 3]])\n",
    "\n",
    "knn = KNN(k=2)\n",
    "knn.fit(X_train, y_train)\n",
    "predictions = knn.predict(X_test)\n",
    "print(predictions)\n",
    "\n"
   ]
  },
  {
   "cell_type": "code",
   "execution_count": null,
   "id": "36a181f7-38f4-4c8c-bcc7-654eaba0ee91",
   "metadata": {},
   "outputs": [],
   "source": []
  }
 ],
 "metadata": {
  "kernelspec": {
   "display_name": "Python 3 (ipykernel)",
   "language": "python",
   "name": "python3"
  },
  "language_info": {
   "codemirror_mode": {
    "name": "ipython",
    "version": 3
   },
   "file_extension": ".py",
   "mimetype": "text/x-python",
   "name": "python",
   "nbconvert_exporter": "python",
   "pygments_lexer": "ipython3",
   "version": "3.10.18"
  }
 },
 "nbformat": 4,
 "nbformat_minor": 5
}
